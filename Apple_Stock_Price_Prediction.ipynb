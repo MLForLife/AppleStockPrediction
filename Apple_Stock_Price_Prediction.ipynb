{
 "cells": [
  {
   "cell_type": "markdown",
   "metadata": {},
   "source": [
    "### Import all necessary libraries"
   ]
  },
  {
   "cell_type": "code",
   "execution_count": 3,
   "metadata": {},
   "outputs": [],
   "source": [
    "import os\n",
    "import numpy as np\n",
    "import pandas as pd\n",
    "from sklearn.svm import SVR\n",
    "import matplotlib.pyplot as plt\n",
    "from sklearn.model_selection import train_test_split"
   ]
  },
  {
   "cell_type": "code",
   "execution_count": 9,
   "metadata": {},
   "outputs": [],
   "source": [
    "def readCsv(file_name):\n",
    "    \n",
    "    '''Reading stock data form csv file as Pandas DataFrame'''\n",
    "    appl_data = ''\n",
    "    file_path = \"data/\"+file_name\n",
    "    if os.path.exists(file_path):\n",
    "        aapl_data = pd.read_csv(file_path)\n",
    "    else: print(\"{0} file does not exists !!\".format(file_name))\n",
    "    return aapl_data"
   ]
  },
  {
   "cell_type": "code",
   "execution_count": 10,
   "metadata": {},
   "outputs": [],
   "source": [
    "def prepTrData(stockdata):\n",
    "    '''Getting relevant data from Dataframe for Training'''\n",
    "    stockdata = stockdata.iloc[::-1]\n",
    "    stockdata[\"highLowAvg\"] = (stockdata[\"high\"]+stockdata[\"low\"])/2\n",
    "    stockdata[\"highLowAvg\"] = stockdata.highLowAvg.shift(-1)\n",
    "    stockdata = stockdata.dropna()\n",
    "    stocks = list(stockdata.close)\n",
    "    avg = list(stockdata.highLowAvg)\n",
    "    return stocks, avg"
   ]
  },
  {
   "cell_type": "code",
   "execution_count": 11,
   "metadata": {},
   "outputs": [
    {
     "name": "stdout",
     "output_type": "stream",
     "text": [
      "         date   close      volume    open      high       low\n",
      "0  2018/07/13  191.33  12506830.0  191.08  191.8400  190.9000\n",
      "1  2018/07/12  191.03  18000180.0  189.53  191.4100  189.3100\n",
      "2  2018/07/11  187.88  18776390.0  188.50  189.7799  187.6100\n",
      "3  2018/07/10  190.35  15801370.0  190.71  191.2800  190.1801\n",
      "4  2018/07/09  190.58  19636390.0  189.50  190.6800  189.3000\n",
      "           date   close      volume    open    high     low\n",
      "248  2017/07/19  151.02  20859830.0  150.48  151.42  149.95\n",
      "249  2017/07/18  150.08  17837130.0  149.20  150.13  148.67\n",
      "250  2017/07/17  149.56  23765710.0  148.82  150.90  148.57\n",
      "251  2017/07/14  149.04  20117070.0  147.97  149.33  147.33\n",
      "252  2017/07/13  147.77  25080500.0  145.50  148.49  145.44\n"
     ]
    }
   ],
   "source": [
    "stockdata = readCsv(\"nasdaq_apple.csv\")\n",
    "print(stockdata.head())\n",
    "print(stockdata.tail())\n"
   ]
  },
  {
   "cell_type": "code",
   "execution_count": 12,
   "metadata": {},
   "outputs": [
    {
     "name": "stderr",
     "output_type": "stream",
     "text": [
      "/home/alind/py3env/lib/python3.6/site-packages/ipykernel_launcher.py:4: SettingWithCopyWarning: \n",
      "A value is trying to be set on a copy of a slice from a DataFrame.\n",
      "Try using .loc[row_indexer,col_indexer] = value instead\n",
      "\n",
      "See the caveats in the documentation: http://pandas.pydata.org/pandas-docs/stable/indexing.html#indexing-view-versus-copy\n",
      "  after removing the cwd from sys.path.\n",
      "/home/alind/py3env/lib/python3.6/site-packages/ipykernel_launcher.py:5: SettingWithCopyWarning: \n",
      "A value is trying to be set on a copy of a slice from a DataFrame.\n",
      "Try using .loc[row_indexer,col_indexer] = value instead\n",
      "\n",
      "See the caveats in the documentation: http://pandas.pydata.org/pandas-docs/stable/indexing.html#indexing-view-versus-copy\n",
      "  \"\"\"\n"
     ]
    }
   ],
   "source": [
    "stock_list, avg_list = prepTrData(stockdata)"
   ]
  },
  {
   "cell_type": "markdown",
   "metadata": {},
   "source": [
    "### Seperating Test and Training data"
   ]
  },
  {
   "cell_type": "code",
   "execution_count": 15,
   "metadata": {},
   "outputs": [],
   "source": [
    "test_size = 0.10\n",
    "avg_list = np.reshape(avg_list, (len(avg_list),1))\n",
    "X_train, X_test, Y_train, Y_test = train_test_split(avg_list, stock_list,test_size = test_size )"
   ]
  },
  {
   "cell_type": "markdown",
   "metadata": {},
   "source": [
    "# Training Model"
   ]
  },
  {
   "cell_type": "markdown",
   "metadata": {},
   "source": [
    "### Linear SVR ::"
   ]
  },
  {
   "cell_type": "code",
   "execution_count": 16,
   "metadata": {},
   "outputs": [
    {
     "data": {
      "text/plain": [
       "0.959376568576885"
      ]
     },
     "execution_count": 16,
     "metadata": {},
     "output_type": "execute_result"
    }
   ],
   "source": [
    "lin_svr = SVR(kernel = 'linear', C=1e3)\n",
    "rbf_svr = SVR(kernel= 'rbf', C=1e3, gamma=0.1)\n",
    "lin_svr.fit(X_train, Y_train)\n",
    "lin_svr.score(X_test, Y_test)"
   ]
  },
  {
   "cell_type": "markdown",
   "metadata": {},
   "source": [
    "### Polynomial SVR::"
   ]
  },
  {
   "cell_type": "code",
   "execution_count": 30,
   "metadata": {},
   "outputs": [
    {
     "data": {
      "text/plain": [
       "0.959376568576885"
      ]
     },
     "execution_count": 30,
     "metadata": {},
     "output_type": "execute_result"
    }
   ],
   "source": [
    "poly_svr = SVR(kernel = 'poly', degree = 2, C=1e3)\n",
    "poly_svr.fit(X_train, Y_train)\n",
    "poly_svr.score(X_test, Y_test)"
   ]
  },
  {
   "cell_type": "markdown",
   "metadata": {},
   "source": [
    "### RBF SVR::"
   ]
  },
  {
   "cell_type": "code",
   "execution_count": 17,
   "metadata": {},
   "outputs": [
    {
     "data": {
      "text/plain": [
       "0.9680726316575332"
      ]
     },
     "execution_count": 17,
     "metadata": {},
     "output_type": "execute_result"
    }
   ],
   "source": [
    "rbf_svr = SVR(kernel= 'rbf', C=1e3, gamma=0.1)\n",
    "rbf_svr.fit(X_train, Y_train)\n",
    "rbf_svr.score(X_test, Y_test)"
   ]
  },
  {
   "cell_type": "markdown",
   "metadata": {},
   "source": [
    "# Plot Graph"
   ]
  },
  {
   "cell_type": "code",
   "execution_count": 28,
   "metadata": {},
   "outputs": [
    {
     "data": {
      "text/plain": [
       "Text(0.5,1,'Stock Prediction SVR')"
      ]
     },
     "execution_count": 28,
     "metadata": {},
     "output_type": "execute_result"
    },
    {
     "data": {
      "image/png": "[encoded data removed]",
      "text/plain": [
       "<Figure size 432x288 with 1 Axes>"
      ]
     },
     "metadata": {},
     "output_type": "display_data"
    }
   ],
   "source": [
    "plt.scatter(X_test, Y_test, color= 'black', label = 'Data')\n",
    "plt.plot(X_test, lin_svr.predict(X_test), color='red', label= 'linear Model')\n",
    "plt.plot(X_test, rbf_svr.predict(X_test), color='green', label= 'RBF Model')\n",
    "plt.xlabel(\"HighLowAvg\")\n",
    "plt.ylabel(\"price\")\n",
    "plt.title(\"Stock Prediction SVR\")"
   ]
  }
 ],
 "metadata": {
  "kernelspec": {
   "display_name": "Python 3",
   "language": "python",
   "name": "python3"
  },
  "language_info": {
   "codemirror_mode": {
    "name": "ipython",
    "version": 3
   },
   "file_extension": ".py",
   "mimetype": "text/x-python",
   "name": "python",
   "nbconvert_exporter": "python",
   "pygments_lexer": "ipython3",
   "version": "3.6.0b2"
  }
 },
 "nbformat": 4,
 "nbformat_minor": 2
}
