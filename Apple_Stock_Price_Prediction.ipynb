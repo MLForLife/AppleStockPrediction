{
 "cells": [
  {
   "cell_type": "markdown",
   "metadata": {},
   "source": [
    "### Import all necessary libraries"
   ]
  },
  {
   "cell_type": "code",
   "execution_count": null,
   "metadata": {},
   "outputs": [],
   "source": [
    "import os\n",
    "import numpy as np\n",
    "import pandas as pd\n",
    "from sklearn.svm import SVR\n",
    "import matplotlib.pyplot as plt\n",
    "from sklearn.model_selection import train_test_split"
   ]
  },
  {
   "cell_type": "code",
   "execution_count": null,
   "metadata": {},
   "outputs": [],
   "source": [
    "def readCsv(file_name):\n",
    "    \n",
    "    '''Reading stock data form csv file as Pandas DataFrame'''\n",
    "    appl_data = ''\n",
    "    file_path = \"data/\"+file_name\n",
    "    if os.path.exists(file_path):\n",
    "        aapl_data = pd.read_csv(file_path)\n",
    "    else: print(\"{0} file does not exists !!\".format(file_name))\n",
    "    return aapl_data"
   ]
  },
  {
   "cell_type": "code",
   "execution_count": null,
   "metadata": {},
   "outputs": [],
   "source": [
    "def prepTrData(stockdata):\n",
    "    '''Getting relevant data from Dataframe for Training'''\n",
    "    stockdata = stockdata.iloc[::-1]\n",
    "    stockdata[\"highLowAvg\"] = (stockdata[\"high\"]+stockdata[\"low\"])/2\n",
    "    stockdata[\"highLowAvg\"] = stockdata.highLowAvg.shift(-1)\n",
    "    stockdata = stockdata.dropna()\n",
    "    stocks = list(stockdata.close)\n",
    "    avg = list(stockdata.highLowAvg)\n",
    "    return stocks, avg"
   ]
  },
  {
   "cell_type": "code",
   "execution_count": null,
   "metadata": {},
   "outputs": [],
   "source": [
    "stockdata = readCsv(\"nasdaq_apple.csv\")\n",
    "stockdata.head()\n"
   ]
  },
  {
   "cell_type": "code",
   "execution_count": null,
   "metadata": {},
   "outputs": [],
   "source": [
    "stock_list, avg_list = prepTrData(stockdata)"
   ]
  },
  {
   "cell_type": "markdown",
   "metadata": {},
   "source": [
    "### Seperating Test and Training data"
   ]
  },
  {
   "cell_type": "code",
   "execution_count": null,
   "metadata": {},
   "outputs": [],
   "source": [
    "test_size = 0.10\n",
    "avg_list = np.reshape(avg_list, (len(avg_list),1))\n",
    "X_train, X_test, Y_train, Y_test = train_test_split(avg_list, stock_list,test_size = test_size )"
   ]
  },
  {
   "cell_type": "markdown",
   "metadata": {},
   "source": [
    "# Training Model"
   ]
  },
  {
   "cell_type": "markdown",
   "metadata": {},
   "source": [
    "### Linear SVR ::"
   ]
  },
  {
   "cell_type": "code",
   "execution_count": null,
   "metadata": {},
   "outputs": [],
   "source": [
    "lin_svr = SVR(kernel = 'linear', C=1e3)\n",
    "rbf_svr = SVR(kernel= 'rbf', C=1e3, gamma=0.1)\n",
    "lin_svr.fit(X_train, Y_train)\n",
    "lin_svr.score(X_test, Y_test)"
   ]
  },
  {
   "cell_type": "markdown",
   "metadata": {},
   "source": [
    "### Polynomial SVR::"
   ]
  },
  {
   "cell_type": "code",
   "execution_count": null,
   "metadata": {},
   "outputs": [],
   "source": [
    "poly_svr = SVR(kernel = 'poly', degree = 2, C=1e3)\n",
    "poly_svr.fit(X_train, Y_train)\n",
    "poly_svr.score(X_test, Y_test)"
   ]
  },
  {
   "cell_type": "markdown",
   "metadata": {},
   "source": [
    "### RBF SVR::"
   ]
  },
  {
   "cell_type": "code",
   "execution_count": null,
   "metadata": {},
   "outputs": [],
   "source": [
    "rbf_svr = SVR(kernel= 'rbf', C=1e3, gamma=0.1)\n",
    "rbf_svr.fit(X_train, Y_train)\n",
    "rbf_svr.score(X_test, Y_test)"
   ]
  },
  {
   "cell_type": "markdown",
   "metadata": {},
   "source": [
    "# Plot Graph"
   ]
  },
  {
   "cell_type": "code",
   "execution_count": null,
   "metadata": {},
   "outputs": [],
   "source": [
    "plt.scatter(X_test, Y_test, color= 'black', label = 'Data')\n",
    "plt.plot(X_test, lin_svr.predict(X_test), color='red', label= 'linear Model')\n",
    "plt.plot(X_test, rbf_svr.predict(X_test), color='green', label= 'RBF Model')\n",
    "plt.xlabel(\"HighLowAvg\")\n",
    "plt.ylabel(\"price\")\n",
    "plt.title(\"Stock Prediction SVR\")"
   ]
  }
 ],
 "metadata": {
  "kernelspec": {
   "display_name": "Python 3",
   "language": "python",
   "name": "python3"
  },
  "language_info": {
   "codemirror_mode": {
    "name": "ipython",
    "version": 3
   },
   "file_extension": ".py",
   "mimetype": "text/x-python",
   "name": "python",
   "nbconvert_exporter": "python",
   "pygments_lexer": "ipython3",
   "version": "3.6.0b2"
  }
 },
 "nbformat": 4,
 "nbformat_minor": 2
}
